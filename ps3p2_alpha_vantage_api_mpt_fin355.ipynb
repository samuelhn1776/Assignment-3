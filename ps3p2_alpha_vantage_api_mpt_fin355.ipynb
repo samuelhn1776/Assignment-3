{
 "cells": [
  {
   "cell_type": "markdown",
   "metadata": {},
   "source": [
    "## Problem Set 3 (Part 2 of 2): Interacting with the Alpha Vantage API using Python libraries"
   ]
  },
  {
   "cell_type": "markdown",
   "metadata": {},
   "source": [
    "In Part 2 of Problem Set 3 we will be using the data retrived from the Alpha Vantage API and creating an optimized portfolio of stocks based on Modern Portfolio Theory. The PyPortfolioOpt package will be used to optimize a portfolio of stocks based maximizing the Sharpe Ratio. This exercise is an example of how a robo-advisor would use data APIs to continuously monitor and adjusts stock portfolios. \n",
    "\n",
    "This part of the exercise demonstrates:\n",
    "\n",
    "1. Setting up a programming environment to work with APIs\n",
    "2. Data preprocessing to create compatible datasets\n",
    "3. Using a quantititive popular portfolio optimization library to estimate risks and weights\n",
    "\n",
    "Documentation links:\n",
    "<br />Alpha Vantage: https://www.alphavantage.co/documentation/\n",
    "<br />Alpha Vantage Python library: https://alpha-vantage.readthedocs.io/en/latest/#\n",
    "<br />Pandas DataFrame: https://pandas.pydata.org/pandas-docs/stable/reference/frame.html\n",
    "<br />PyPortfolioOpt: https://pyportfolioopt.readthedocs.io/en/latest/index.html"
   ]
  },
  {
   "cell_type": "code",
   "execution_count": 4,
   "metadata": {},
   "outputs": [],
   "source": [
    "api_key = \"OJTPVJGKW1IYYLF8\""
   ]
  },
  {
   "cell_type": "code",
   "execution_count": 5,
   "metadata": {},
   "outputs": [],
   "source": [
    "\n",
    "import pandas as pd\n",
    "import requests\n",
    "from alpha_vantage.timeseries import TimeSeries\n",
    "import matplotlib.pyplot as plt\n",
    "\n",
    "# PyPortfolioOpt libraries\n",
    "from pypfopt.efficient_frontier import EfficientFrontier\n",
    "from pypfopt import risk_models\n",
    "from pypfopt import expected_returns\n",
    "from pypfopt.discrete_allocation import DiscreteAllocation, get_latest_prices"
   ]
  },
  {
   "cell_type": "code",
   "execution_count": 6,
   "metadata": {},
   "outputs": [],
   "source": [
    "ts = TimeSeries(key=api_key,output_format='pandas')"
   ]
  },
  {
   "cell_type": "code",
   "execution_count": 7,
   "metadata": {},
   "outputs": [],
   "source": [
    "TSN_data, TSN_meta_data = ts.get_daily(symbol='TSN', outputsize='full')\n",
    "msft_data, msft_meta_data = ts.get_daily(symbol='MSFT', outputsize='full')\n",
    "aapl_data, aapl_meta_data = ts.get_daily(symbol='AAPL', outputsize='full')\n",
    "amzn_data, amzn_meta_data = ts.get_daily(symbol='AMZN', outputsize='full')"
   ]
  },
  {
   "cell_type": "markdown",
   "metadata": {},
   "source": [
    "Isolate \"close\" column of data for each security:"
   ]
  },
  {
   "cell_type": "code",
   "execution_count": 8,
   "metadata": {
    "scrolled": true
   },
   "outputs": [],
   "source": [
    "TSN_clean = TSN_data['4. close']\n",
    "msft_clean = msft_data['4. close']\n",
    "aapl_clean = aapl_data['4. close']\n",
    "amzn_clean = amzn_data['4. close']"
   ]
  },
  {
   "cell_type": "markdown",
   "metadata": {},
   "source": [
    "Create new dataframe with tickers as columns:"
   ]
  },
  {
   "cell_type": "code",
   "execution_count": 9,
   "metadata": {},
   "outputs": [],
   "source": [
    "df = pd.DataFrame(columns=['TSN', 'msft', 'aapl', 'amzn'])"
   ]
  },
  {
   "cell_type": "markdown",
   "metadata": {},
   "source": [
    "Place data into new dataframe:"
   ]
  },
  {
   "cell_type": "code",
   "execution_count": 30,
   "metadata": {
    "scrolled": true
   },
   "outputs": [
    {
     "name": "stdout",
     "output_type": "stream",
     "text": [
      "               TSN     msft     aapl       amzn\n",
      "date                                           \n",
      "1999-10-19  15.875   86.313   68.500    76.6250\n",
      "1999-10-20  15.750   92.250   75.125    80.5000\n",
      "1999-10-21  15.750   93.063   76.125    80.7500\n",
      "1999-10-22  15.875   92.688   73.938    78.6250\n",
      "1999-10-25  15.750   92.438   74.500    82.7500\n",
      "1999-10-26  15.625   92.375   75.063    81.2500\n",
      "1999-10-27  15.375   90.875   76.375    75.9380\n",
      "1999-10-28  15.313   89.875   77.875    71.0000\n",
      "1999-10-29  15.250   92.563   80.125    70.6250\n",
      "1999-11-01  15.750   92.375   77.625    69.1250\n",
      "1999-11-02  15.875   92.563   80.250    66.4380\n",
      "1999-11-03  16.250   92.000   81.500    65.8130\n",
      "1999-11-04  16.375   91.750   83.625    63.0630\n",
      "1999-11-05  16.688   91.563   88.313    64.9380\n",
      "1999-11-08  16.500   89.938   96.375    78.0000\n",
      "1999-11-09  16.438   88.875   89.625    70.8130\n",
      "1999-11-10  16.875   87.125   91.438    72.0000\n",
      "1999-11-11  17.250   89.625   92.250    73.0000\n",
      "1999-11-12  17.438   89.188   90.625    74.9380\n",
      "1999-11-15  17.438   87.000   89.438    73.5000\n",
      "1999-11-16  17.250   87.313   91.188    78.9380\n",
      "1999-11-17  17.438   85.000   90.250    76.5000\n",
      "1999-11-18  18.000   84.938   89.625    77.9380\n",
      "1999-11-19  17.563   86.000   92.438    77.9380\n",
      "1999-11-22  17.500   89.813   90.625    80.5000\n",
      "1999-11-23  17.625   89.625   92.813    81.7500\n",
      "1999-11-24  17.500   91.688   94.688    87.2500\n",
      "1999-11-26  17.625   91.125   95.063    93.1250\n",
      "1999-11-29  17.250   90.188   94.563    90.4380\n",
      "1999-11-30  17.375   91.047   97.875    85.0630\n",
      "...            ...      ...      ...        ...\n",
      "2019-09-10  81.460  136.080  216.700  1820.5500\n",
      "2019-09-11  82.320  136.120  223.590  1822.9900\n",
      "2019-09-12  83.470  137.520  223.090  1843.5500\n",
      "2019-09-13  85.170  137.320  218.750  1839.3400\n",
      "2019-09-16  86.340  136.330  219.900  1807.8400\n",
      "2019-09-17  88.880  137.390  220.700  1822.5500\n",
      "2019-09-18  88.270  138.520  222.770  1817.4600\n",
      "2019-09-19  88.170  141.070  220.960  1821.5000\n",
      "2019-09-20  87.390  139.440  217.730  1794.1600\n",
      "2019-09-23  85.790  139.140  218.720  1785.3000\n",
      "2019-09-24  86.280  137.380  217.680  1741.6100\n",
      "2019-09-25  85.970  139.360  221.030  1768.3300\n",
      "2019-09-26  86.460  139.540  219.890  1739.8400\n",
      "2019-09-27  85.200  137.730  218.820  1725.4500\n",
      "2019-09-30  86.140  139.030  223.970  1735.9100\n",
      "2019-10-01  83.320  137.070  224.590  1735.6500\n",
      "2019-10-02  82.370  134.650  218.960  1713.2300\n",
      "2019-10-03  82.100  136.280  220.820  1724.4200\n",
      "2019-10-04  82.250  138.120  227.010  1739.6500\n",
      "2019-10-07  81.160  137.120  227.060  1732.6600\n",
      "2019-10-08  80.430  135.670  224.400  1705.5100\n",
      "2019-10-09  81.730  138.240  227.030  1721.9900\n",
      "2019-10-10  82.130  139.100  230.090  1720.2600\n",
      "2019-10-11  83.600  139.680  236.210  1731.9200\n",
      "2019-10-14  84.060  139.550  235.870  1736.4301\n",
      "2019-10-15  83.740  141.570  235.320  1767.3800\n",
      "2019-10-16  81.860  140.410  234.370  1777.4301\n",
      "2019-10-17  81.370  139.690  235.280  1787.4800\n",
      "2019-10-18  82.420  137.410  236.410  1757.5100\n",
      "2019-10-21  80.970  138.390  240.510  1785.6700\n",
      "\n",
      "[5034 rows x 4 columns]\n"
     ]
    }
   ],
   "source": [
    "df['TSN'] = TSN_clean\n",
    "df['msft'] = msft_clean\n",
    "df['aapl'] = aapl_clean\n",
    "df['amzn'] = amzn_clean\n",
    "print(df)"
   ]
  },
  {
   "cell_type": "markdown",
   "metadata": {},
   "source": [
    "Take only the earlist half of observations:"
   ]
  },
  {
   "cell_type": "code",
   "execution_count": 31,
   "metadata": {},
   "outputs": [],
   "source": [
    "df = df[0:924]"
   ]
  },
  {
   "cell_type": "markdown",
   "metadata": {},
   "source": [
    "Calculate expected returns:"
   ]
  },
  {
   "cell_type": "code",
   "execution_count": 32,
   "metadata": {},
   "outputs": [],
   "source": [
    "# Calculate expected returns and sample covariance\n",
    "mu = expected_returns.mean_historical_return(df)"
   ]
  },
  {
   "cell_type": "markdown",
   "metadata": {},
   "source": [
    "Calculate sample covariance matrix:"
   ]
  },
  {
   "cell_type": "code",
   "execution_count": 33,
   "metadata": {},
   "outputs": [],
   "source": [
    "S = risk_models.sample_cov(df)"
   ]
  },
  {
   "cell_type": "markdown",
   "metadata": {},
   "source": [
    "Optimize the weights to maximzie the Sharpe Ratio:"
   ]
  },
  {
   "cell_type": "code",
   "execution_count": 34,
   "metadata": {},
   "outputs": [
    {
     "name": "stdout",
     "output_type": "stream",
     "text": [
      "Expected annual return: 20.2%\n",
      "Annual volatility: 92.2%\n",
      "Sharpe Ratio: 0.20\n"
     ]
    },
    {
     "data": {
      "text/plain": [
       "(0.20240734040050548, 0.9215818484119076, 0.19792852985856252)"
      ]
     },
     "execution_count": 34,
     "metadata": {},
     "output_type": "execute_result"
    }
   ],
   "source": [
    "ef = EfficientFrontier(mu, S)\n",
    "weights = ef.max_sharpe()\n",
    "ef.portfolio_performance(verbose=True)"
   ]
  },
  {
   "cell_type": "code",
   "execution_count": 35,
   "metadata": {},
   "outputs": [
    {
     "name": "stdout",
     "output_type": "stream",
     "text": [
      "{'TSN': 9.71445146547012e-17, 'msft': 6.938893903907228e-18, 'aapl': 5.551115123125783e-17, 'amzn': 1.0}\n"
     ]
    }
   ],
   "source": [
    "print(weights)"
   ]
  },
  {
   "cell_type": "markdown",
   "metadata": {},
   "source": [
    "Using optimized weights, compute portfolio accolation:"
   ]
  },
  {
   "cell_type": "code",
   "execution_count": 36,
   "metadata": {},
   "outputs": [
    {
     "name": "stdout",
     "output_type": "stream",
     "text": [
      "3 out of 4 tickers were removed\n",
      "{'amzn': 28248}\n"
     ]
    }
   ],
   "source": [
    "latest_prices = get_latest_prices(df)\n",
    "da = DiscreteAllocation(weights, latest_prices, total_portfolio_value=1000000)\n",
    "allocation, leftover = da.greedy_portfolio()\n",
    "print(allocation)"
   ]
  },
  {
   "cell_type": "markdown",
   "metadata": {},
   "source": [
    "To update portfolio, call the API again for latest data and run optimization model again:"
   ]
  },
  {
   "cell_type": "code",
   "execution_count": 37,
   "metadata": {},
   "outputs": [],
   "source": [
    "TSN_data, TSN_meta_data = ts.get_daily(symbol='TSN', outputsize='full')\n",
    "msft_data, msft_meta_data = ts.get_daily(symbol='MSFT', outputsize='full')\n",
    "aapl_data, aapl_meta_data = ts.get_daily(symbol='AAPL', outputsize='full')\n",
    "amzn_data, amzn_meta_data = ts.get_daily(symbol='AMZN', outputsize='full')"
   ]
  },
  {
   "cell_type": "code",
   "execution_count": 23,
   "metadata": {},
   "outputs": [],
   "source": [
    "df = pd.DataFrame(columns=['TSN', 'msft', 'aapl', 'amzn'])"
   ]
  },
  {
   "cell_type": "code",
   "execution_count": 39,
   "metadata": {},
   "outputs": [
    {
     "name": "stdout",
     "output_type": "stream",
     "text": [
      "               TSN    msft    aapl    amzn\n",
      "date                                      \n",
      "1999-10-19  15.875  86.313  68.500  76.625\n",
      "1999-10-20  15.750  92.250  75.125  80.500\n",
      "1999-10-21  15.750  93.063  76.125  80.750\n",
      "1999-10-22  15.875  92.688  73.938  78.625\n",
      "1999-10-25  15.750  92.438  74.500  82.750\n",
      "1999-10-26  15.625  92.375  75.063  81.250\n",
      "1999-10-27  15.375  90.875  76.375  75.938\n",
      "1999-10-28  15.313  89.875  77.875  71.000\n",
      "1999-10-29  15.250  92.563  80.125  70.625\n",
      "1999-11-01  15.750  92.375  77.625  69.125\n",
      "1999-11-02  15.875  92.563  80.250  66.438\n",
      "1999-11-03  16.250  92.000  81.500  65.813\n",
      "1999-11-04  16.375  91.750  83.625  63.063\n",
      "1999-11-05  16.688  91.563  88.313  64.938\n",
      "1999-11-08  16.500  89.938  96.375  78.000\n",
      "1999-11-09  16.438  88.875  89.625  70.813\n",
      "1999-11-10  16.875  87.125  91.438  72.000\n",
      "1999-11-11  17.250  89.625  92.250  73.000\n",
      "1999-11-12  17.438  89.188  90.625  74.938\n",
      "1999-11-15  17.438  87.000  89.438  73.500\n",
      "1999-11-16  17.250  87.313  91.188  78.938\n",
      "1999-11-17  17.438  85.000  90.250  76.500\n",
      "1999-11-18  18.000  84.938  89.625  77.938\n",
      "1999-11-19  17.563  86.000  92.438  77.938\n",
      "1999-11-22  17.500  89.813  90.625  80.500\n",
      "1999-11-23  17.625  89.625  92.813  81.750\n",
      "1999-11-24  17.500  91.688  94.688  87.250\n",
      "1999-11-26  17.625  91.125  95.063  93.125\n",
      "1999-11-29  17.250  90.188  94.563  90.438\n",
      "1999-11-30  17.375  91.047  97.875  85.063\n",
      "...            ...     ...     ...     ...\n",
      "2003-05-13   9.580  25.990  18.670  32.950\n",
      "2003-05-14   9.500  25.630  18.550  32.600\n",
      "2003-05-15   9.320  25.790  18.730  32.630\n",
      "2003-05-16   9.100  25.570  18.800  33.050\n",
      "2003-05-19   9.470  24.800  18.100  31.560\n",
      "2003-05-20   9.010  24.630  17.790  31.480\n",
      "2003-05-21   9.000  24.030  17.850  31.750\n",
      "2003-05-22   8.900  24.160  18.240  33.000\n",
      "2003-05-23   9.230  24.220  18.320  32.720\n",
      "2003-05-27   9.310  24.790  18.880  34.850\n",
      "2003-05-28   9.260  24.410  18.280  34.860\n",
      "2003-05-29   9.200  24.400  18.100  35.550\n",
      "2003-05-30   9.500  24.610  17.950  35.890\n",
      "2003-06-02   9.700  24.639  17.450  35.400\n",
      "2003-06-03   9.760  24.880  17.310  35.230\n",
      "2003-06-04  10.120  24.870  17.600  35.390\n",
      "2003-06-05  10.170  24.090  17.640  35.520\n",
      "2003-06-06  10.110  23.670  17.150  33.350\n",
      "2003-06-09   9.830  23.750  16.790  33.680\n",
      "2003-06-10  10.120  24.680  17.180  34.070\n",
      "2003-06-11  10.360  24.880  17.450  34.650\n",
      "2003-06-12  10.570  24.990  17.770  35.201\n",
      "2003-06-13  10.710  24.650  17.420  34.130\n",
      "2003-06-16  10.850  25.390  18.270  35.840\n",
      "2003-06-17  10.830  25.959  18.190  35.840\n",
      "2003-06-18  10.750  26.070  19.120  35.850\n",
      "2003-06-19  10.800  26.070  19.140  35.500\n",
      "2003-06-20  10.900  26.330  19.200  35.040\n",
      "2003-06-23  10.900  25.780  19.060  35.580\n",
      "2003-06-24  10.720  25.700  18.780  35.400\n",
      "\n",
      "[924 rows x 4 columns]\n"
     ]
    }
   ],
   "source": [
    "df['TSN'] = TSN_clean\n",
    "df['msft'] = msft_clean\n",
    "df['aapl'] = aapl_clean\n",
    "df['amzn'] = amzn_clean\n",
    "print(df)"
   ]
  },
  {
   "cell_type": "code",
   "execution_count": 40,
   "metadata": {},
   "outputs": [
    {
     "name": "stdout",
     "output_type": "stream",
     "text": [
      "Expected annual return: 20.2%\n",
      "Annual volatility: 92.2%\n",
      "Sharpe Ratio: 0.20\n",
      "{'TSN': 9.71445146547012e-17, 'msft': 6.938893903907228e-18, 'aapl': 5.551115123125783e-17, 'amzn': 1.0}\n"
     ]
    }
   ],
   "source": [
    "mu = expected_returns.mean_historical_return(df)\n",
    "S = risk_models.sample_cov(df)\n",
    "# Optimise for maximal Sharpe ratio\"\n",
    "ef = EfficientFrontier(mu, S)\n",
    "weights = ef.max_sharpe()\n",
    "ef.portfolio_performance(verbose=True)\n",
    "print(weights)"
   ]
  },
  {
   "cell_type": "code",
   "execution_count": 41,
   "metadata": {},
   "outputs": [
    {
     "name": "stdout",
     "output_type": "stream",
     "text": [
      "3 out of 4 tickers were removed\n",
      "{'amzn': 28248}\n"
     ]
    }
   ],
   "source": [
    "latest_prices = get_latest_prices(df)\n",
    "da = DiscreteAllocation(weights, latest_prices, total_portfolio_value=1000000)\n",
    "allocation, leftover = da.greedy_portfolio()\n",
    "print(allocation)"
   ]
  },
  {
   "cell_type": "code",
   "execution_count": null,
   "metadata": {},
   "outputs": [],
   "source": []
  }
 ],
 "metadata": {
  "kernelspec": {
   "display_name": "Python 3",
   "language": "python",
   "name": "python3"
  },
  "language_info": {
   "codemirror_mode": {
    "name": "ipython",
    "version": 3
   },
   "file_extension": ".py",
   "mimetype": "text/x-python",
   "name": "python",
   "nbconvert_exporter": "python",
   "pygments_lexer": "ipython3",
   "version": "3.7.3"
  }
 },
 "nbformat": 4,
 "nbformat_minor": 2
}
